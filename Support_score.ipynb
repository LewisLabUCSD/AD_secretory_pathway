{
  "nbformat": 4,
  "nbformat_minor": 0,
  "metadata": {
    "kernelspec": {
      "name": "python3",
      "display_name": "Python 3"
    },
    "colab": {
      "name": "Support_score",
      "provenance": [],
      "collapsed_sections": [],
      "machine_shape": "hm"
    },
    "accelerator": "GPU"
  },
  "cells": [
    {
      "cell_type": "code",
      "metadata": {
        "id": "CAG0KcwLGf4m",
        "colab_type": "code",
        "colab": {}
      },
      "source": [
        "!nvidia-smi\n",
        "import feather\n",
        "import torch\n",
        "# torch.set_num_threads(32)\n",
        "import numpy as np\n",
        "import pickle as pickle\n",
        "import socket"
      ],
      "execution_count": null,
      "outputs": []
    },
    {
      "cell_type": "code",
      "metadata": {
        "id": "XYn_fKJlGf4r",
        "colab_type": "code",
        "cellView": "code",
        "colab": {}
      },
      "source": [
        "from multiprocessing import Pool\n",
        "from functools import partial\n",
        "import socket\n",
        "import feather\n",
        "import pickle\n",
        "\n",
        "if socket.gethostname().startswith('chihchung-HP'):\n",
        "    project_root_dir = '/home/chihchung/GoogleDrive/ppi'\n",
        "    device = 'cuda'\n",
        "elif socket.gethostname().startswith('Chihchungs-MacBook-Pro'):\n",
        "    project_root_dir = '/Volumes/GoogleDrive/My Drive/ppi'\n",
        "    device = 'cpu'\n",
        "else:  # colab\n",
        "    from google.colab import drive\n",
        "    drive.mount('~/GoogleDrive')\n",
        "    import sys\n",
        "    project_root_dir = '/root/GoogleDrive/My Drive/ppi'\n",
        "    device = 'cuda'\n",
        "    sys.path.insert(0, '%s/python'%(project_root_dir))\n",
        "from graph_gradient import * \n",
        "from load_python_datasets import load_expr_mat"
      ],
      "execution_count": null,
      "outputs": []
    },
    {
      "cell_type": "markdown",
      "metadata": {
        "id": "XTCO6iC6Gf4v",
        "colab_type": "text"
      },
      "source": [
        "We are only interested in the secretion of amyloid precursor: APP for now"
      ]
    },
    {
      "cell_type": "code",
      "metadata": {
        "id": "1JwEjJuEGf4v",
        "colab_type": "code",
        "colab": {}
      },
      "source": [
        "G = pickle.load(open('%s/databases/networks/int.db.PCNet.G.p' % project_root_dir, 'rb'))\n",
        "secMs = feather.read_dataframe(\n",
        "    '%s/python/data/deep_proteome_median/secM.components.feather' % project_root_dir).iloc[:, 0].to_list()\n",
        "secPs = feather.read_dataframe(\n",
        "    '%s/python/data/deep_proteome_median/secP.components.feather' % project_root_dir).iloc[:, 0].to_list()\n",
        "sec_resident = feather.read_dataframe(\n",
        "    '%s/python/data/deep_proteome_median/all.secretory.resident.genes.feather' % project_root_dir).iloc[:,\n",
        "                0].to_list()\n",
        "\n",
        "APP_pathway_genes = pd.read_csv('%s/databases/2019_AD_GWAS/APP_pathway.csv' % project_root_dir)['Gene'].to_list()\n",
        "AD_risk_genes = pd.read_csv('%s/databases/2019_AD_GWAS/AD_risk_genes.csv' % project_root_dir)['AD_risk_genes'].to_list()\n",
        "candidateSecPs = ['APP',# 'MAPT',\n",
        "                  'ADAM10', #'ADAM10', 'ADAM17', 'ADAM19',\n",
        "                  'BACE1', #'BACE2',\n",
        "                  'PSEN1'#,'PSEN2', 'NCSTN', 'APH1A'\n",
        "                  ]\n"
      ],
      "execution_count": null,
      "outputs": []
    },
    {
      "cell_type": "code",
      "metadata": {
        "id": "LiwHpd8hGf40",
        "colab_type": "code",
        "colab": {}
      },
      "source": [
        "# use_expr = 'SC_counts'\n",
        "# transformation = 'log_sigmoid'\n",
        "\n",
        "# use_expr = 'SC_tpm'\n",
        "# transformation = None#'log_sigmoid'\n",
        "\n",
        "use_expr = 'MSBB_normExp'\n",
        "transformation = None\n",
        "# transformation = 'sigmoid'\n",
        "\n",
        "# use_expr = 'ROSMAP_fpkm'\n",
        "# transformation = 'log_sigmoid'\n",
        "\n",
        "expr_mat= load_expr_mat(use_expr=use_expr, project_root_dir = project_root_dir, \n",
        "                        transformation=transformation)\n",
        "patient_names = list(expr_mat.columns)\n",
        "patient_ids = range(expr_mat.shape[1])\n",
        "patient_name_dict = dict(zip(patient_ids, patient_names))\n",
        "allGeneSymbols = list(expr_mat.index)"
      ],
      "execution_count": null,
      "outputs": []
    },
    {
      "cell_type": "code",
      "metadata": {
        "id": "_AhF_nJQGf42",
        "colab_type": "code",
        "colab": {}
      },
      "source": [
        "calculate_grad = False\n",
        "summarization = False\n",
        "calculate_stationary= True\n",
        "parallel = True\n",
        "# expr_arr= stats.zscore(np.log(1+expr_arr))\n",
        "# expr_arr= expit(expr_arr)\n",
        "\n",
        "def rwr_run(secP):\n",
        "    try:\n",
        "        if calculate_grad:\n",
        "            other_context_genes = list(\n",
        "                set(APP_pathway_genes + AD_risk_genes) - {secP} - set(secMs) - set(sec_resident)\n",
        "            a = RwrNode(secp=secP, G=G, secms=secMs, sec_resident=sec_resident,\n",
        "                        other_context_genes=other_context_genes)\n",
        "            mask_on = [x for x in a.G.nodes if x not in other_context_genes]\n",
        "            vt_jacobian_nodes = 'secMs'\n",
        "        else:\n",
        "            other_context_genes = []\n",
        "            a = RwrNode(secp=secP, G=G, secms=secMs, sec_resident=sec_resident,\n",
        "                        other_context_genes=other_context_genes)\n",
        "            mask_on = []\n",
        "            vt_jacobian_nodes = None\n",
        "\n",
        "\n",
        "    except Exception as e:\n",
        "        # a = None\n",
        "        # continuee\n",
        "        return None\n",
        "\n",
        "    res_dict = {}\n",
        "    for patient_id in tqdm(patient_ids):\n",
        "        res_dict.update({patient_name_dict[patient_id]:\n",
        "                              a.p_arwr(mask_on=mask_on,\n",
        "                                      secP_secM_expr=dict(zip(allGeneSymbols, expr_mat.iloc[:, patient_id])),\n",
        "                                      summarization=summarization,  # 'context_weighted_secM'\n",
        "                                      vt_jacobian_nodes=vt_jacobian_nodes, calculate_stationary=calculate_stationary\n",
        "                                      )})\n",
        "\n",
        "    return res_dict\n",
        "\n",
        "# import tqdm\n",
        "if parallel:\n",
        "    with Pool(4) as p:\n",
        "        res = list(tqdm(p.imap(rwr_run, candidateSecPs), total=len(candidateSecPs)))\n",
        "else:\n",
        "    res = []\n",
        "    for secP in candidateSecPs:\n",
        "        res.append(rwr_run(secP))\n",
        "\n",
        "\n",
        "\n",
        "res_frame = pd.concat([pd.DataFrame.from_dict({(secP, i, j): res_dict[i][j]\n",
        "                                                for i in res_dict.keys()\n",
        "                                                for j in res_dict[i].keys()},\n",
        "                                              orient='index') for secP, res_dict in zip(candidateSecPs, res) if res_dict is not None])\n",
        "savepath='%s/output/2005_AD_all/%s_%s' %(project_root_dir, use_expr, transformation)\n",
        "from pathlib import Path\n",
        "Path(savepath).mkdir(parents=True, exist_ok=True)\n",
        "\n",
        "res_frame.to_csv('%s/RWR_secPs%s_%s.csv' % (savepath,\n",
        "                                            'gradient' if calculate_grad else '',\n",
        "                                            'summarized' if summarization else 'geneLevel'))"
      ],
      "execution_count": null,
      "outputs": []
    }
  ]
}