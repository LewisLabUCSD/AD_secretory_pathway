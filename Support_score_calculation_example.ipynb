{
  "nbformat": 4,
  "nbformat_minor": 0,
  "metadata": {
    "kernelspec": {
      "name": "python3",
      "display_name": "Python 3"
    },
    "colab": {
      "name": "Support score calculation 2021",
      "provenance": [],
      "collapsed_sections": [],
      "machine_shape": "hm",
      "include_colab_link": true
    },
    "accelerator": "GPU"
  },
  "cells": [
    {
      "cell_type": "markdown",
      "metadata": {
        "id": "view-in-github",
        "colab_type": "text"
      },
      "source": [
        "<a href=\"https://colab.research.google.com/github/LewisLabUCSD/AD_secretory_pathway/blob/master/Support_score_calculation_example.ipynb\" target=\"_parent\"><img src=\"https://colab.research.google.com/assets/colab-badge.svg\" alt=\"Open In Colab\"/></a>"
      ]
    },
    {
      "cell_type": "code",
      "metadata": {
        "id": "RVeyMliP7h53",
        "colab": {
          "base_uri": "https://localhost:8080/"
        },
        "outputId": "1347c06e-6d1b-4206-eacb-1e0134804534"
      },
      "source": [
        "!git clone https://github.com/LewisLabUCSD/AD_secretory_pathway.git\n",
        "%cd AD_secretory_pathway/"
      ],
      "execution_count": 1,
      "outputs": [
        {
          "output_type": "stream",
          "text": [
            "Cloning into 'AD_secretory_pathway'...\n",
            "remote: Enumerating objects: 37, done.\u001b[K\n",
            "remote: Counting objects: 100% (37/37), done.\u001b[K\n",
            "remote: Compressing objects: 100% (35/35), done.\u001b[K\n",
            "remote: Total 37 (delta 15), reused 0 (delta 0), pack-reused 0\u001b[K\n",
            "Unpacking objects: 100% (37/37), done.\n",
            "/content/AD_secretory_pathway\n"
          ],
          "name": "stdout"
        }
      ]
    },
    {
      "cell_type": "code",
      "metadata": {
        "id": "CAG0KcwLGf4m",
        "colab": {
          "base_uri": "https://localhost:8080/"
        },
        "outputId": "c32a3038-2f96-4c87-ef84-56c42cf049ea"
      },
      "source": [
        "!nvidia-smi\n",
        "import feather\n",
        "import torch\n",
        "# torch.set_num_threads(32)\n",
        "import numpy as np\n",
        "import pickle as pickle\n",
        "import socket\n",
        "device = 'cuda'"
      ],
      "execution_count": 2,
      "outputs": [
        {
          "output_type": "stream",
          "text": [
            "Wed Feb 24 22:57:38 2021       \n",
            "+-----------------------------------------------------------------------------+\n",
            "| NVIDIA-SMI 460.39       Driver Version: 460.32.03    CUDA Version: 11.2     |\n",
            "|-------------------------------+----------------------+----------------------+\n",
            "| GPU  Name        Persistence-M| Bus-Id        Disp.A | Volatile Uncorr. ECC |\n",
            "| Fan  Temp  Perf  Pwr:Usage/Cap|         Memory-Usage | GPU-Util  Compute M. |\n",
            "|                               |                      |               MIG M. |\n",
            "|===============================+======================+======================|\n",
            "|   0  Tesla P100-PCIE...  Off  | 00000000:00:04.0 Off |                    0 |\n",
            "| N/A   46C    P0    29W / 250W |      0MiB / 16280MiB |      0%      Default |\n",
            "|                               |                      |                  N/A |\n",
            "+-------------------------------+----------------------+----------------------+\n",
            "                                                                               \n",
            "+-----------------------------------------------------------------------------+\n",
            "| Processes:                                                                  |\n",
            "|  GPU   GI   CI        PID   Type   Process name                  GPU Memory |\n",
            "|        ID   ID                                                   Usage      |\n",
            "|=============================================================================|\n",
            "|  No running processes found                                                 |\n",
            "+-----------------------------------------------------------------------------+\n"
          ],
          "name": "stdout"
        }
      ]
    },
    {
      "cell_type": "code",
      "metadata": {
        "id": "XYn_fKJlGf4r",
        "cellView": "code"
      },
      "source": [
        "from multiprocessing import Pool\n",
        "from functools import partial\n",
        "import socket\n",
        "import feather\n",
        "import pickle\n",
        "project_root_dir = './'\n",
        "from graph_gradient import * \n",
        "from load_python_datasets import load_expr_mat"
      ],
      "execution_count": 3,
      "outputs": []
    },
    {
      "cell_type": "markdown",
      "metadata": {
        "id": "LtsM85KcnDeF"
      },
      "source": [
        "Download supplemental files"
      ]
    },
    {
      "cell_type": "code",
      "metadata": {
        "colab": {
          "base_uri": "https://localhost:8080/"
        },
        "id": "4-ne_StynCaC",
        "outputId": "4e635b8b-2091-4a4f-d939-71079a82a53e"
      },
      "source": [
        "## download parsed interaction database, prepared from 10.1016/j.cels.2018.03.001\n",
        "!wget https://ndownloader.figshare.com/files/26600330\n",
        "!mv 26600330 databases/int.db.PCNet.G.p.zip\n",
        "!unzip databases/int.db.PCNet.G.p.zip  -d databases"
      ],
      "execution_count": 4,
      "outputs": [
        {
          "output_type": "stream",
          "text": [
            "--2021-02-24 22:57:44--  https://ndownloader.figshare.com/files/26600330\n",
            "Resolving ndownloader.figshare.com (ndownloader.figshare.com)... 54.77.157.195, 34.255.241.20, 34.241.53.95, ...\n",
            "Connecting to ndownloader.figshare.com (ndownloader.figshare.com)|54.77.157.195|:443... connected.\n",
            "HTTP request sent, awaiting response... 302 Found\n",
            "Location: https://s3-eu-west-1.amazonaws.com/pfigshare-u-files/26600330/int.db.PCNet.G.p.zip [following]\n",
            "--2021-02-24 22:57:44--  https://s3-eu-west-1.amazonaws.com/pfigshare-u-files/26600330/int.db.PCNet.G.p.zip\n",
            "Resolving s3-eu-west-1.amazonaws.com (s3-eu-west-1.amazonaws.com)... 52.218.93.123\n",
            "Connecting to s3-eu-west-1.amazonaws.com (s3-eu-west-1.amazonaws.com)|52.218.93.123|:443... connected.\n",
            "HTTP request sent, awaiting response... 200 OK\n",
            "Length: 51081294 (49M) [application/zip]\n",
            "Saving to: ‘26600330’\n",
            "\n",
            "26600330            100%[===================>]  48.71M  16.1MB/s    in 3.0s    \n",
            "\n",
            "2021-02-24 22:57:48 (16.1 MB/s) - ‘26600330’ saved [51081294/51081294]\n",
            "\n",
            "Archive:  databases/int.db.PCNet.G.p.zip\n",
            "  inflating: databases/int.db.PCNet.G.p  \n"
          ],
          "name": "stdout"
        }
      ]
    },
    {
      "cell_type": "markdown",
      "metadata": {
        "id": "dzdzT2lnqDhb"
      },
      "source": [
        "To use singel cell expression dataset, set:\n",
        "```\n",
        "use_expr = 'SC_counts'\n",
        "transformation = 'sigmoid'\n",
        "```\n",
        "To use bulk expression data from MSBB, set:\n",
        "```\n",
        "use_expr = 'ROSMAP_fpkm'\n",
        "transformation = 'log_sigmoid'\n",
        "```\n",
        "\n",
        "Otherwise, please specify your own expression matrix\n",
        "Note that the first column of the expression matrix must be named \"geneSymbol\". The rest of the columns should be uniquely named after the samples from which the gene expression profiles were quantified. These sample names will be used as identifies for the calculated support scores.\n",
        "\n",
        "| geneSymbol      | sample1 | sample2| ...|\n",
        "| ----------- | ----------- |---|---|\n",
        "| gene1      | $$v_\\text{gene1, sample1}$$ | $$v_\\text{gene1, sample2}$$||\n",
        "| gene2   | $$v_\\text{gene2, Isample}$$        | $$v_\\text{gene2, sample2}$$||\n",
        "|⋮||||\n",
        "\n"
      ]
    },
    {
      "cell_type": "code",
      "metadata": {
        "colab": {
          "base_uri": "https://localhost:8080/"
        },
        "id": "vUGiHaznmLaa",
        "outputId": "2a757b30-fd7a-4d99-94d8-20b4fb76aa62"
      },
      "source": [
        "use_expression = \"bulk_RNA\"  #@param ['bulk_RNA', 'single_cell', 'custom']\n",
        "if use_expression == 'custom':\n",
        "    url_to_csv = '' \n",
        "    expr_mat= load_expr_mat(use_expr= url_to_csv, project_root_dir = project_root_dir, \n",
        "                            transformation='sigmoid')\n",
        "elif use_expression == 'single_cell':\n",
        "    ## download single cell expression dataset, prepared from 10.1038/s41586-019-1195-2\n",
        "    !wget https://ndownloader.figshare.com/files/26599727\n",
        "    !mv 26599727 databases/AD_sc_counts.feather.gz\n",
        "    !gunzip databases/AD_sc_counts.feather.gz databases/AD_sc_counts.feather    \n",
        "    expr_mat= load_expr_mat(use_expr='AD_sc_counts.feather', project_root_dir = project_root_dir + 'databases/', \n",
        "                        transformation='sigmoid')\n",
        "elif use_expression == 'bulk_RNA':\n",
        "    ## download bulk expression dataset, prepared from 10.1038/sdata.2018.185\n",
        "    !wget https://ndownloader.figshare.com/files/26599763\n",
        "    !mv 26599763 databases/AD_MSBB_scaleExp.feather.gz\n",
        "    !gunzip databases/AD_MSBB_scaleExp.feather.gz databases/AD_MSBB_scaleExp.feather    \n",
        "    expr_mat= load_expr_mat(use_expr='AD_MSBB_scaleExp.feather', project_root_dir = project_root_dir + 'databases/', \n",
        "                            transformation='sigmoid')"
      ],
      "execution_count": 5,
      "outputs": [
        {
          "output_type": "stream",
          "text": [
            "--2021-02-24 22:57:50--  https://ndownloader.figshare.com/files/26599763\n",
            "Resolving ndownloader.figshare.com (ndownloader.figshare.com)... 54.171.25.147, 54.72.223.163, 108.128.236.202, ...\n",
            "Connecting to ndownloader.figshare.com (ndownloader.figshare.com)|54.171.25.147|:443... connected.\n",
            "HTTP request sent, awaiting response... 302 Found\n",
            "Location: https://s3-eu-west-1.amazonaws.com/pfigshare-u-files/26599763/AD_MSBB_scaleExp.feather.gz [following]\n",
            "--2021-02-24 22:57:51--  https://s3-eu-west-1.amazonaws.com/pfigshare-u-files/26599763/AD_MSBB_scaleExp.feather.gz\n",
            "Resolving s3-eu-west-1.amazonaws.com (s3-eu-west-1.amazonaws.com)... 52.218.89.155\n",
            "Connecting to s3-eu-west-1.amazonaws.com (s3-eu-west-1.amazonaws.com)|52.218.89.155|:443... connected.\n",
            "HTTP request sent, awaiting response... 200 OK\n",
            "Length: 136993642 (131M) [application/gzip]\n",
            "Saving to: ‘26599763’\n",
            "\n",
            "26599763            100%[===================>] 130.65M  28.5MB/s    in 5.3s    \n",
            "\n",
            "2021-02-24 22:57:56 (24.7 MB/s) - ‘26599763’ saved [136993642/136993642]\n",
            "\n",
            "gzip: databases/AD_MSBB_scaleExp.feather: unknown suffix -- ignored\n"
          ],
          "name": "stdout"
        }
      ]
    },
    {
      "cell_type": "markdown",
      "metadata": {
        "id": "XTCO6iC6Gf4v"
      },
      "source": [
        "Load network (G) and secretory pathway components"
      ]
    },
    {
      "cell_type": "code",
      "metadata": {
        "id": "1JwEjJuEGf4v"
      },
      "source": [
        "G = pickle.load(open('%s/databases/int.db.PCNet.G.p' % project_root_dir, 'rb'))\n",
        "secMs = feather.read_dataframe(\n",
        "    '%s/databases/secM.components.feather' % project_root_dir).iloc[:, 0].to_list()\n",
        "# secPs = feather.read_dataframe(\n",
        "#     '%s/databases/secP.components.feather' % project_root_dir).iloc[:, 0].to_list()\n",
        "sec_resident = feather.read_dataframe(\n",
        "    '%s/databases/all.secretory.resident.genes.feather' % project_root_dir).iloc[:,\n",
        "                0].to_list()\n",
        "## Define secPs of interest\n",
        "candidateSecPs = ['APP',\n",
        "                  'ADAM10', \n",
        "                  'BACE1',\n",
        "                  'PSEN1'\n",
        "                  ]"
      ],
      "execution_count": 6,
      "outputs": []
    },
    {
      "cell_type": "markdown",
      "metadata": {
        "id": "-amNBw1P7a2L"
      },
      "source": [
        "Load expression data; "
      ]
    },
    {
      "cell_type": "code",
      "metadata": {
        "id": "LiwHpd8hGf40"
      },
      "source": [
        "patient_names = list(expr_mat.columns)\n",
        "patient_ids = range(expr_mat.shape[1])\n",
        "patient_name_dict = dict(zip(patient_ids, patient_names))\n",
        "allGeneSymbols = list(expr_mat.index)"
      ],
      "execution_count": 7,
      "outputs": []
    },
    {
      "cell_type": "markdown",
      "metadata": {
        "id": "a8lAMN7SeOy_"
      },
      "source": [
        "Start support score calculation"
      ]
    },
    {
      "cell_type": "code",
      "metadata": {
        "id": "_AhF_nJQGf42",
        "colab": {
          "base_uri": "https://localhost:8080/"
        },
        "outputId": "a5718b26-5b3a-4e70-e663-3df73d0810cd"
      },
      "source": [
        "calculate_grad = False ## whether to calculate support score gradient\n",
        "summarization = True ## Set to True to calculate one summary support score for each secreted protein as specified in candidateSecPs; set to False to calculate support component scores for each secreted protein.\n",
        "calculate_stationary= False ## whether to calculate the stationary distribution of the expression-guided random walk\n",
        "parallel = False ## When set to True, compute the support scores in parallel. Watch GPU memory usage.\n",
        "\n",
        "def rwr_run(secP):\n",
        "    try:\n",
        "        if calculate_grad:\n",
        "            other_context_genes = list(\n",
        "                # set(G.nodes) - {secP} - set(secMs) - set(sec_resident)\n",
        "                set(APP_pathway_genes + AD_risk_genes) - {secP} - set(secMs) - set(sec_resident)\n",
        "                # set(secPs) - {secP} - set(secMs) - set(sec_resident)\n",
        "\n",
        "            )  # list(set(candidateSecPs) - {secP} - set(secMs))\n",
        "            a = RwrNode(secp=secP, G=G, secms=secMs, sec_resident=sec_resident,\n",
        "                        other_context_genes=other_context_genes, device=device)\n",
        "            mask_on = [x for x in a.G.nodes if x not in other_context_genes]\n",
        "            vt_jacobian_nodes = 'secMs'\n",
        "        else:\n",
        "            other_context_genes = []\n",
        "            a = RwrNode(secp=secP, G=G, secms=secMs, sec_resident=sec_resident,\n",
        "                        other_context_genes=other_context_genes, device=device)\n",
        "            mask_on = []\n",
        "            vt_jacobian_nodes = None\n",
        "\n",
        "\n",
        "    except Exception as e:\n",
        "        # a = None\n",
        "        # continuee\n",
        "        return None\n",
        "\n",
        "    res_dict = {}\n",
        "    for patient_id in tqdm(patient_ids):\n",
        "        res_dict.update({patient_name_dict[patient_id]:\n",
        "                              a.p_arwr(mask_on=mask_on,\n",
        "                                      secP_secM_expr=dict(zip(allGeneSymbols, expr_mat.iloc[:, patient_id])),\n",
        "                                      summarization=summarization,  # 'context_weighted_secM'\n",
        "                                      # n_prop=3,\n",
        "                                      vt_jacobian_nodes=vt_jacobian_nodes, calculate_stationary=calculate_stationary\n",
        "                                      )})\n",
        "\n",
        "    return res_dict\n",
        "\n",
        "# import tqdm\n",
        "if parallel:\n",
        "    with Pool(4) as p:\n",
        "        res = list(tqdm(p.imap(rwr_run, candidateSecPs), total=len(candidateSecPs)))\n",
        "else:\n",
        "    res = []\n",
        "    for secP in candidateSecPs:\n",
        "        res.append(rwr_run(secP))\n",
        "\n"
      ],
      "execution_count": 8,
      "outputs": [
        {
          "output_type": "stream",
          "text": [
            "100%|██████████| 938/938 [02:08<00:00,  7.31it/s]\n",
            "100%|██████████| 938/938 [01:58<00:00,  7.90it/s]\n",
            "100%|██████████| 938/938 [01:58<00:00,  7.91it/s]\n",
            "100%|██████████| 938/938 [01:58<00:00,  7.91it/s]\n"
          ],
          "name": "stderr"
        }
      ]
    },
    {
      "cell_type": "markdown",
      "metadata": {
        "id": "_DP_t0ioIC5A"
      },
      "source": [
        "The output can be found under the ```AD_secretory_pathway/output``` folder"
      ]
    },
    {
      "cell_type": "code",
      "metadata": {
        "colab": {
          "base_uri": "https://localhost:8080/",
          "height": 419
        },
        "id": "aL-SX3GMGvoB",
        "outputId": "6977e7ac-2439-426a-acb6-0d371b83e10f"
      },
      "source": [
        "res_frame = pd.concat([pd.DataFrame.from_dict({(secP, i, j): res_dict[i][j]\n",
        "                                                for i in res_dict.keys()\n",
        "                                                for j in res_dict[i].keys()},\n",
        "                                              orient='index') for secP, res_dict in zip(candidateSecPs, res) if res_dict is not None])\n",
        "savepath='%s/output' %(project_root_dir)\n",
        "from pathlib import Path\n",
        "Path(savepath).mkdir(parents=True, exist_ok=True)\n",
        "\n",
        "res_frame.to_csv('%s/RWR_secPs%s_%s.csv' % (savepath,\n",
        "                                            'gradient' if calculate_grad else '',\n",
        "                                            'summarized' if summarization else 'geneLevel'))\n",
        "res_frame"
      ],
      "execution_count": 9,
      "outputs": [
        {
          "output_type": "execute_result",
          "data": {
            "text/html": [
              "<div>\n",
              "<style scoped>\n",
              "    .dataframe tbody tr th:only-of-type {\n",
              "        vertical-align: middle;\n",
              "    }\n",
              "\n",
              "    .dataframe tbody tr th {\n",
              "        vertical-align: top;\n",
              "    }\n",
              "\n",
              "    .dataframe thead th {\n",
              "        text-align: right;\n",
              "    }\n",
              "</style>\n",
              "<table border=\"1\" class=\"dataframe\">\n",
              "  <thead>\n",
              "    <tr style=\"text-align: right;\">\n",
              "      <th></th>\n",
              "      <th></th>\n",
              "      <th></th>\n",
              "      <th>context_weighted_all</th>\n",
              "      <th>context_weighted_secMs</th>\n",
              "      <th>secM_avg</th>\n",
              "    </tr>\n",
              "  </thead>\n",
              "  <tbody>\n",
              "    <tr>\n",
              "      <th rowspan=\"5\" valign=\"top\">APP</th>\n",
              "      <th>S108B355.BM_10_739</th>\n",
              "      <th>summarized</th>\n",
              "      <td>0.758742</td>\n",
              "      <td>0.750834</td>\n",
              "      <td>0.224987</td>\n",
              "    </tr>\n",
              "    <tr>\n",
              "      <th>S109B355.BM_10_791</th>\n",
              "      <th>summarized</th>\n",
              "      <td>0.751785</td>\n",
              "      <td>0.747637</td>\n",
              "      <td>0.226215</td>\n",
              "    </tr>\n",
              "    <tr>\n",
              "      <th>S112B394.BM_10_621</th>\n",
              "      <th>summarized</th>\n",
              "      <td>0.737050</td>\n",
              "      <td>0.726017</td>\n",
              "      <td>0.224234</td>\n",
              "    </tr>\n",
              "    <tr>\n",
              "      <th>S111B394.BM_10_569</th>\n",
              "      <th>summarized</th>\n",
              "      <td>0.739199</td>\n",
              "      <td>0.728954</td>\n",
              "      <td>0.224791</td>\n",
              "    </tr>\n",
              "    <tr>\n",
              "      <th>S109B355.BM_10_788</th>\n",
              "      <th>summarized</th>\n",
              "      <td>0.749649</td>\n",
              "      <td>0.741986</td>\n",
              "      <td>0.225646</td>\n",
              "    </tr>\n",
              "    <tr>\n",
              "      <th>...</th>\n",
              "      <th>...</th>\n",
              "      <th>...</th>\n",
              "      <td>...</td>\n",
              "      <td>...</td>\n",
              "      <td>...</td>\n",
              "    </tr>\n",
              "    <tr>\n",
              "      <th rowspan=\"5\" valign=\"top\">PSEN1</th>\n",
              "      <th>E009C189.hB_RNA_16695</th>\n",
              "      <th>summarized</th>\n",
              "      <td>0.729660</td>\n",
              "      <td>0.735077</td>\n",
              "      <td>0.245090</td>\n",
              "    </tr>\n",
              "    <tr>\n",
              "      <th>L43C014.hB_RNA_4774</th>\n",
              "      <th>summarized</th>\n",
              "      <td>0.723928</td>\n",
              "      <td>0.735909</td>\n",
              "      <td>0.246442</td>\n",
              "    </tr>\n",
              "    <tr>\n",
              "      <th>E009C189.hB_RNA_17075</th>\n",
              "      <th>summarized</th>\n",
              "      <td>0.727877</td>\n",
              "      <td>0.737484</td>\n",
              "      <td>0.245855</td>\n",
              "    </tr>\n",
              "    <tr>\n",
              "      <th>K85C014.hB_RNA_8575</th>\n",
              "      <th>summarized</th>\n",
              "      <td>0.742472</td>\n",
              "      <td>0.747604</td>\n",
              "      <td>0.245435</td>\n",
              "    </tr>\n",
              "    <tr>\n",
              "      <th>E009C189.hB_RNA_16805</th>\n",
              "      <th>summarized</th>\n",
              "      <td>0.731014</td>\n",
              "      <td>0.741902</td>\n",
              "      <td>0.246062</td>\n",
              "    </tr>\n",
              "  </tbody>\n",
              "</table>\n",
              "<p>3752 rows × 3 columns</p>\n",
              "</div>"
            ],
            "text/plain": [
              "                                        context_weighted_all  ...  secM_avg\n",
              "APP   S108B355.BM_10_739    summarized              0.758742  ...  0.224987\n",
              "      S109B355.BM_10_791    summarized              0.751785  ...  0.226215\n",
              "      S112B394.BM_10_621    summarized              0.737050  ...  0.224234\n",
              "      S111B394.BM_10_569    summarized              0.739199  ...  0.224791\n",
              "      S109B355.BM_10_788    summarized              0.749649  ...  0.225646\n",
              "...                                                      ...  ...       ...\n",
              "PSEN1 E009C189.hB_RNA_16695 summarized              0.729660  ...  0.245090\n",
              "      L43C014.hB_RNA_4774   summarized              0.723928  ...  0.246442\n",
              "      E009C189.hB_RNA_17075 summarized              0.727877  ...  0.245855\n",
              "      K85C014.hB_RNA_8575   summarized              0.742472  ...  0.245435\n",
              "      E009C189.hB_RNA_16805 summarized              0.731014  ...  0.246062\n",
              "\n",
              "[3752 rows x 3 columns]"
            ]
          },
          "metadata": {
            "tags": []
          },
          "execution_count": 9
        }
      ]
    }
  ]
}